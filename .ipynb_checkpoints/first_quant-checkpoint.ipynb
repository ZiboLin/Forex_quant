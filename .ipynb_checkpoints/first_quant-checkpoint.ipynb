{
 "cells": [
  {
   "cell_type": "code",
   "execution_count": null,
   "id": "f54d110d",
   "metadata": {},
   "outputs": [],
   "source": [
    "import numpy as np\n",
    "import pandas as pd\n",
    "import matplotlib.pyplot as plt\n",
    "import tensorflow as tf \n",
    "#import yfinance as yf\n",
    "import tpqoa\n",
    "from scipy.optimize import brute"
   ]
  },
  {
   "cell_type": "code",
   "execution_count": null,
   "id": "57a7f58c",
   "metadata": {},
   "outputs": [],
   "source": [
    "#EUR_USD"
   ]
  },
  {
   "cell_type": "code",
   "execution_count": null,
   "id": "0843387e",
   "metadata": {},
   "outputs": [],
   "source": [
    "#######   First step   #######\n",
    "#(Find the data for the past 8 years, train_set(2014-19),test_set(2020-21))\n",
    "#Granularity:15m, 30m, 1h, 2h, 4h, 6h, 8h, 1d"
   ]
  },
  {
   "cell_type": "code",
   "execution_count": null,
   "id": "7f975dec",
   "metadata": {},
   "outputs": [],
   "source": [
    "granu = [\"M15\",\"M30\",\"1h\",\"2h\",\"4h\",\"6h\",\"8h\",\"1d\"]\n",
    "symbol = \"EUR_USD\"\n",
    "#set up trading cost\n",
    "tc = 0.00007 \n",
    "\n",
    "train_start_date = \"2014-01-01\"\n",
    "train_end_date = \"2019-12-31\"\n",
    "test_start_date = \"2020-01-01\"\n",
    "test_end_date = \"2021-12-31\"\n",
    "#We use granularity of 15mins bar to store history for both sets\n",
    "api = tpqoa.tpqoa(\"oanda.cfg\")\n",
    "# get_history= read_csv(\"xxx\",parse_dates=[\"time\"],index_col=\"time\")\n",
    "# It already parse_dates and ste index_col for you\n",
    "# It should drop all the NA value without the need to use dropna()\n",
    "# Use df.isnull().any() if you don't feel safe\n",
    "train_history = api.get_history(instrument=\"EUR_USD\", start = train_start_date, end = train_end_date,\n",
    "               granularity = \"M15\", price = \"M\", localize = False )\n",
    "test_history = api.get_history(instrument=\"EUR_USD\", start = test_start_date, end = test_end_date,\n",
    "               granularity = \"M15\", price = \"M\", localize = False )"
   ]
  },
  {
   "cell_type": "code",
   "execution_count": null,
   "id": "e75f70c8",
   "metadata": {},
   "outputs": [],
   "source": [
    "#Only keep the date and the closing price\n",
    "train_history.drop(columns=[\"o\",\"h\",\"l\",\"volume\",\"complete\"],inplace = True)\n",
    "test_history.drop(columns=[\"o\",\"h\",\"l\",\"volume\",\"complete\"],inplace = True)\n",
    "train_history.rename(columns={\"c\":\"price\"},inplace = True)\n",
    "test_history.rename(columns={\"c\":\"price\"},inplace = True)"
   ]
  },
  {
   "cell_type": "code",
   "execution_count": null,
   "id": "134bfe9d",
   "metadata": {},
   "outputs": [],
   "source": []
  },
  {
   "cell_type": "code",
   "execution_count": null,
   "id": "4d962709",
   "metadata": {},
   "outputs": [],
   "source": [
    "#######   Second step   #######\n",
    "# Use these indicators\n",
    "# (1)SMA, (2)Bolinger band, (3)RSI, (4)MACD "
   ]
  },
  {
   "cell_type": "code",
   "execution_count": null,
   "id": "b6ab9319",
   "metadata": {},
   "outputs": [],
   "source": [
    "#(1)\n",
    "# import SMA_BackTester as SMA\n",
    "# tester = SMA.SMABackTester(symbol=\"EUR_USD\",SMA_S=20,SMA_L=50,\n",
    "#                            start=\"2014-01-01\",end=\"2019-12-31\",\n",
    "#                            tc=0.00007,granularity=\"D\")\n",
    "# tester.test_strategy()"
   ]
  },
  {
   "cell_type": "code",
   "execution_count": null,
   "id": "9bf463c0",
   "metadata": {},
   "outputs": [],
   "source": [
    "#S1 = slice(1,50,1)\n",
    "#S2 = slice(51,200,1)\n",
    "#tester.optimise_parameters(S1,S2)\n",
    "# tester.plot_results()\n"
   ]
  },
  {
   "cell_type": "code",
   "execution_count": null,
   "id": "c0708d58",
   "metadata": {},
   "outputs": [],
   "source": [
    "#(2)Bolinger band ( Mean Reversion Strategy)\n",
    "# Does not work well alone "
   ]
  },
  {
   "cell_type": "code",
   "execution_count": null,
   "id": "07e238cf",
   "metadata": {},
   "outputs": [],
   "source": [
    "#(3)RSI(Relative Strength Index)\n",
    "# Does not work well alone "
   ]
  },
  {
   "cell_type": "code",
   "execution_count": null,
   "id": "b780158a",
   "metadata": {},
   "outputs": [],
   "source": [
    "#(4)MACD\n",
    "# Does not work well alone "
   ]
  },
  {
   "cell_type": "code",
   "execution_count": null,
   "id": "17db98c3",
   "metadata": {},
   "outputs": [],
   "source": [
    "###### Notes ######\n",
    "# I added an iterative backtester class \n",
    "# Because the previous Vectorised Backtesting is hard to code more complex strategies, \n",
    "# and look-ahead bias call positions and trades are determined simultaneously, but ne data arrives incrementally\n",
    "\n",
    "# When using Iterative Backtesting(\"Event Driven\")\n",
    "# More complex Strategies, used after vectorised backtesting, close to trading\n",
    "\n",
    "# import IterativeBacktester as IB \n",
    "# tester = IB.IterativeBacktester(\"EURUSD\",\"2012-01-01\", \"2020-01-01\", 100000, use_spread = True)\n",
    "# tester.test_boll_strategy(50, 2)"
   ]
  },
  {
   "cell_type": "code",
   "execution_count": null,
   "id": "6e860da0",
   "metadata": {},
   "outputs": [],
   "source": [
    "#######   Step 3  #######\n",
    "#Use Machine Learning for different index and a combination of index\n",
    "#Logistic Regression:"
   ]
  },
  {
   "cell_type": "code",
   "execution_count": null,
   "id": "2651b79a",
   "metadata": {},
   "outputs": [],
   "source": [
    "#(1)LogisticRegression with returns, lags = 5 \n",
    "# import ML_BackTester as ML_BackTester\n",
    "# tester = ML_BackTester.MLBacktester(symbol = \"EUR_USD\", start = \"2012-01-01\", end = \"2021-12-31\", \n",
    "#                                     granularity=\"M15\",tc =0 ,lags=5)\n",
    "# tester.test_strategy()"
   ]
  },
  {
   "cell_type": "code",
   "execution_count": null,
   "id": "4b4f2d45",
   "metadata": {},
   "outputs": [],
   "source": [
    "#######   Step 4  #######\n",
    "#Build a combination back-tester class for Machine Learning and traditional strategies\n",
    "#ML(MACD), traidtional strategies(SMA)"
   ]
  },
  {
   "cell_type": "code",
   "execution_count": 1,
   "id": "d764c093",
   "metadata": {},
   "outputs": [],
   "source": [
    "# import combination_BackTester as Backtester\n",
    "# tester = Backtester.combination_BackTester(symbol = \"EUR_USD\",start = \"2012-01-01\", end = \"2021-12-31\", \n",
    "#                   granularity=\"D\", SMA_short = 20 , SMA_long =50,tc =0.00007 ,lags=5)"
   ]
  },
  {
   "cell_type": "code",
   "execution_count": null,
   "id": "aa632964",
   "metadata": {},
   "outputs": [],
   "source": [
    "# Final step: Build a live class for trading\n",
    "# See Live_trading.py"
   ]
  },
  {
   "cell_type": "code",
   "execution_count": null,
   "id": "119c806b",
   "metadata": {},
   "outputs": [],
   "source": []
  },
  {
   "cell_type": "code",
   "execution_count": null,
   "id": "4d93afe8",
   "metadata": {},
   "outputs": [],
   "source": []
  },
  {
   "cell_type": "code",
   "execution_count": null,
   "id": "0da3e9b0",
   "metadata": {},
   "outputs": [],
   "source": []
  },
  {
   "cell_type": "code",
   "execution_count": null,
   "id": "6f04770f",
   "metadata": {},
   "outputs": [],
   "source": []
  },
  {
   "cell_type": "code",
   "execution_count": null,
   "id": "ce0c652e",
   "metadata": {},
   "outputs": [],
   "source": []
  }
 ],
 "metadata": {
  "kernelspec": {
   "display_name": "Python 3.9 (tensorflow)",
   "language": "python",
   "name": "tensorflow"
  },
  "language_info": {
   "codemirror_mode": {
    "name": "ipython",
    "version": 3
   },
   "file_extension": ".py",
   "mimetype": "text/x-python",
   "name": "python",
   "nbconvert_exporter": "python",
   "pygments_lexer": "ipython3",
   "version": "3.8.12"
  }
 },
 "nbformat": 4,
 "nbformat_minor": 5
}
