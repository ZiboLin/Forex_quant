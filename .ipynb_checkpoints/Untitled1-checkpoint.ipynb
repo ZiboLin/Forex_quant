{
 "cells": [
  {
   "cell_type": "code",
   "execution_count": 1,
   "id": "7dd09742",
   "metadata": {},
   "outputs": [
    {
     "name": "stdout",
     "output_type": "stream",
     "text": [
      "1\n"
     ]
    },
    {
     "name": "stderr",
     "output_type": "stream",
     "text": [
      "/Users/zibolin/miniforge3/envs/ml/lib/python3.8/site-packages/keras/optimizer_v2/optimizer_v2.py:355: UserWarning: The `lr` argument is deprecated, use `learning_rate` instead.\n",
      "  warnings.warn(\n"
     ]
    }
   ],
   "source": [
    "import DNN_BackTester as DNN"
   ]
  },
  {
   "cell_type": "code",
   "execution_count": null,
   "id": "53821ae2",
   "metadata": {},
   "outputs": [],
   "source": [
    "tester = DNN.DNN_Backtester(symbol = \"EUR_USD\",start=\"2019-01-01\",end = \"2022-01-01\",granularity = \"M15\")"
   ]
  }
 ],
 "metadata": {
  "kernelspec": {
   "display_name": "Python 3 (ipykernel)",
   "language": "python",
   "name": "python3"
  },
  "language_info": {
   "codemirror_mode": {
    "name": "ipython",
    "version": 3
   },
   "file_extension": ".py",
   "mimetype": "text/x-python",
   "name": "python",
   "nbconvert_exporter": "python",
   "pygments_lexer": "ipython3",
   "version": "3.8.12"
  }
 },
 "nbformat": 4,
 "nbformat_minor": 5
}
